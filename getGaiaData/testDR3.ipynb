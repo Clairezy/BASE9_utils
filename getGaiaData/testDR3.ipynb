{
 "cells": [
  {
   "cell_type": "code",
   "execution_count": 1,
   "id": "275fbc28",
   "metadata": {},
   "outputs": [],
   "source": [
    "from astroquery.gaia import Gaia"
   ]
  },
  {
   "cell_type": "code",
   "execution_count": 30,
   "id": "cd05de82",
   "metadata": {},
   "outputs": [],
   "source": [
    "GaiaCatalog = \"gaiadr3.gaia_source\" \n",
    "PanSTARRSMatchCatalog = \"gaiadr3.panstarrs1_best_neighbour\"\n",
    "PanSTARRSCatalog = \"gaiadr2.panstarrs1_original_valid\"\n",
    "TMASSMatchCatalog = \"gaiadr3.tmass_psc_xsc_best_neighbour\"\n",
    "TMASSJoinCatalog = \"gaiadr3.tmass_psc_xsc_join\"\n",
    "TMASSCatalog = \"gaiadr1.tmass_original_valid\"\n",
    "\n",
    "maxPMerror = 5 # mas/year"
   ]
  },
  {
   "cell_type": "code",
   "execution_count": 69,
   "id": "6f4a9aff",
   "metadata": {},
   "outputs": [],
   "source": [
    "columns = ['gaia.source_id',\n",
    "    'gaia.ra',\n",
    "    'gaia.dec',\n",
    "    'gaia.pmra',\n",
    "    'gaia.pmdec',\n",
    "    'gaia.radial_velocity',\n",
    "    'gaia.phot_g_mean_mag',\n",
    "    'gaia.phot_g_mean_flux_over_error',\n",
    "    'gaia.phot_bp_mean_mag',\n",
    "    'gaia.phot_bp_mean_flux_over_error',\n",
    "    'gaia.phot_rp_mean_mag',\n",
    "    'gaia.phot_rp_mean_flux_over_error',\n",
    "    'gaia.parallax',\n",
    "    'gaia.teff_gspphot',\n",
    "    'gaia.ruwe',\n",
    "    'best.number_of_neighbours',\n",
    "    'best.number_of_mates',\n",
    "    'ps.g_mean_psf_mag',\n",
    "    'ps.g_mean_psf_mag_error',\n",
    "    'ps.r_mean_psf_mag',\n",
    "    'ps.r_mean_psf_mag_error',\n",
    "    'ps.i_mean_psf_mag',\n",
    "    'ps.i_mean_psf_mag_error',\n",
    "    'ps.z_mean_psf_mag',\n",
    "    'ps.z_mean_psf_mag_error',\n",
    "    'ps.y_mean_psf_mag',\n",
    "    'ps.y_mean_psf_mag_error',\n",
    "    'tmass.j_m',\n",
    "    'tmass.j_msigcom',\n",
    "    'tmass.h_m',\n",
    "    'tmass.h_msigcom',\n",
    "    'tmass.ks_m',\n",
    "    'tmass.ks_msigcom',\n",
    "]\n",
    "\n",
    "columns = ', '.join(columns)"
   ]
  },
  {
   "cell_type": "code",
   "execution_count": 70,
   "id": "48090361",
   "metadata": {},
   "outputs": [],
   "source": [
    "RA = 12.108\n",
    "Dec = 85.255\n",
    "radius = 0.1"
   ]
  },
  {
   "cell_type": "code",
   "execution_count": 72,
   "id": "72c4ddb4",
   "metadata": {},
   "outputs": [
    {
     "name": "stdout",
     "output_type": "stream",
     "text": [
      "SELECT gaia.source_id, gaia.ra, gaia.dec, gaia.pmra, gaia.pmdec, gaia.radial_velocity, gaia.phot_g_mean_mag, gaia.phot_g_mean_flux_over_error, gaia.phot_bp_mean_mag, gaia.phot_bp_mean_flux_over_error, gaia.phot_rp_mean_mag, gaia.phot_rp_mean_flux_over_error, gaia.parallax, gaia.teff_gspphot, gaia.ruwe, best.number_of_neighbours, best.number_of_mates, ps.g_mean_psf_mag, ps.g_mean_psf_mag_error, ps.r_mean_psf_mag, ps.r_mean_psf_mag_error, ps.i_mean_psf_mag, ps.i_mean_psf_mag_error, ps.z_mean_psf_mag, ps.z_mean_psf_mag_error, ps.y_mean_psf_mag, ps.y_mean_psf_mag_error, tmass.j_m, tmass.j_msigcom, tmass.h_m, tmass.h_msigcom, tmass.ks_m, tmass.ks_msigcom FROM gaiadr3.gaia_source AS gaia LEFT OUTER JOIN gaiadr3.panstarrs1_best_neighbour AS best ON gaia.source_id = best.source_id LEFT OUTER JOIN gaiadr2.panstarrs1_original_valid AS ps ON best.original_ext_source_id = ps.obj_id LEFT OUTER JOIN gaiadr3.tmass_psc_xsc_best_neighbour AS xmatch ON gaia.source_id = xmatch.source_id LEFT OUTER JOIN gaiadr3.tmass_psc_xsc_join AS xjoin ON xmatch.clean_tmass_psc_xsc_oid = xjoin.clean_tmass_psc_xsc_oid LEFT OUTER JOIN gaiadr1.tmass_original_valid AS tmass ON xjoin.original_psc_source_id = tmass.designation WHERE CONTAINS(POINT('ICRS',gaia.ra, gaia.dec),CIRCLE('ICRS', 12.108, 85.255, 0.1))=1 AND abs(gaia.pmra_error)<5 AND abs(gaia.pmdec_error)<5 AND gaia.pmra IS NOT NULL AND abs(gaia.pmra)>0 AND gaia.pmdec IS NOT NULL AND abs(gaia.pmdec)>0;\n"
     ]
    }
   ],
   "source": [
    "ADQLcmd = f\"SELECT {columns} \" + \\\n",
    "    f\"FROM {GaiaCatalog} AS gaia \" + \\\n",
    "    f\"LEFT OUTER JOIN {PanSTARRSMatchCatalog} AS best ON gaia.source_id = best.source_id \" +  \\\n",
    "    f\"LEFT OUTER JOIN {PanSTARRSCatalog} AS ps ON best.original_ext_source_id = ps.obj_id \" +  \\\n",
    "    f\"LEFT OUTER JOIN {TMASSMatchCatalog} AS xmatch ON gaia.source_id = xmatch.source_id \" + \\\n",
    "    f\"LEFT OUTER JOIN {TMASSJoinCatalog} AS xjoin ON xmatch.clean_tmass_psc_xsc_oid = xjoin.clean_tmass_psc_xsc_oid \" + \\\n",
    "    f\"LEFT OUTER JOIN {TMASSCatalog} AS tmass ON xjoin.original_psc_source_id = tmass.designation \" + \\\n",
    "    f\"WHERE CONTAINS(POINT('ICRS',gaia.ra, gaia.dec),\" + \\\n",
    "    f\"CIRCLE('ICRS', {RA}, {Dec}, {radius}))=1 \" + \\\n",
    "    f\"AND abs(gaia.pmra_error)<{maxPMerror} \" + \\\n",
    "    f\"AND abs(gaia.pmdec_error)<{maxPMerror} \" + \\\n",
    "    f\"AND gaia.pmra IS NOT NULL AND abs(gaia.pmra)>0 \" + \\\n",
    "    f\"AND gaia.pmdec IS NOT NULL AND abs(gaia.pmdec)>0;\"\n",
    "\n",
    "print(ADQLcmd)"
   ]
  },
  {
   "cell_type": "code",
   "execution_count": 73,
   "id": "5aa55f28",
   "metadata": {},
   "outputs": [
    {
     "name": "stdout",
     "output_type": "stream",
     "text": [
      "INFO: Query finished. [astroquery.utils.tap.core]\n"
     ]
    }
   ],
   "source": [
    "job = Gaia.launch_job_async(ADQLcmd, dump_to_file=False) #could save this to a file"
   ]
  },
  {
   "cell_type": "code",
   "execution_count": 74,
   "id": "08d4e96d",
   "metadata": {},
   "outputs": [
    {
     "data": {
      "text/html": [
       "<div><i>Table length=873</i>\n",
       "<table id=\"table2537187734528\" class=\"table-striped table-bordered table-condensed\">\n",
       "<thead><tr><th>source_id</th><th>ra</th><th>dec</th><th>pmra</th><th>pmdec</th><th>radial_velocity</th><th>phot_g_mean_mag</th><th>phot_g_mean_flux_over_error</th><th>phot_bp_mean_mag</th><th>phot_bp_mean_flux_over_error</th><th>phot_rp_mean_mag</th><th>phot_rp_mean_flux_over_error</th><th>parallax</th><th>teff_gspphot</th><th>ruwe</th><th>number_of_neighbours</th><th>number_of_mates</th><th>g_mean_psf_mag</th><th>g_mean_psf_mag_error</th><th>r_mean_psf_mag</th><th>r_mean_psf_mag_error</th><th>i_mean_psf_mag</th><th>i_mean_psf_mag_error</th><th>z_mean_psf_mag</th><th>z_mean_psf_mag_error</th><th>y_mean_psf_mag</th><th>y_mean_psf_mag_error</th><th>j_m</th><th>j_msigcom</th><th>h_m</th><th>h_msigcom</th><th>ks_m</th><th>ks_msigcom</th></tr></thead>\n",
       "<thead><tr><th></th><th>deg</th><th>deg</th><th>mas / yr</th><th>mas / yr</th><th>km / s</th><th>mag</th><th></th><th>mag</th><th></th><th>mag</th><th></th><th>mas</th><th>K</th><th></th><th></th><th></th><th></th><th>mag</th><th>mag</th><th>mag</th><th>mag</th><th>mag</th><th>mag</th><th>mag</th><th>mag</th><th>mag</th><th>mag</th><th>mag</th><th>mag</th><th>mag</th><th>mag</th><th>mag</th></tr></thead>\n",
       "<thead><tr><th>int64</th><th>float64</th><th>float64</th><th>float64</th><th>float64</th><th>float32</th><th>float32</th><th>float32</th><th>float32</th><th>float32</th><th>float32</th><th>float32</th><th>float64</th><th>float32</th><th>float32</th><th>int16</th><th>int16</th><th>float64</th><th>float64</th><th>float64</th><th>float64</th><th>float64</th><th>float64</th><th>float64</th><th>float64</th><th>float64</th><th>float64</th><th>float32</th><th>float32</th><th>float32</th><th>float32</th><th>float32</th><th>float32</th></tr></thead>\n",
       "<tr><td>573934800434741760</td><td>11.800092936880631</td><td>85.16020643413596</td><td>-0.34260109726566945</td><td>0.3201267706047321</td><td>--</td><td>17.172804</td><td>1408.4047</td><td>17.553349</td><td>134.90123</td><td>16.635153</td><td>198.32681</td><td>0.3261537220765713</td><td>5300.8286</td><td>0.9965295</td><td>1</td><td>0</td><td>17.6117000579834</td><td>0.00466499989852309</td><td>17.1625995635986</td><td>0.00486399978399277</td><td>16.9913997650146</td><td>0.00327500002458692</td><td>16.9302005767822</td><td>0.00621599983423948</td><td>16.9109001159668</td><td>0.0107330000028014</td><td>16.028</td><td>0.085</td><td>15.661</td><td>0.156</td><td>15.815</td><td>--</td></tr>\n",
       "<tr><td>573934864858240768</td><td>11.609202804602221</td><td>85.16416856123969</td><td>-2.3158629917809055</td><td>4.973691214809051</td><td>--</td><td>17.990503</td><td>945.2018</td><td>18.364067</td><td>51.761173</td><td>17.490757</td><td>84.543755</td><td>0.40025107738482374</td><td>5394.4175</td><td>1.017709</td><td>1</td><td>0</td><td>18.3770999908447</td><td>0.00664300005882978</td><td>17.9957008361816</td><td>0.00420300010591745</td><td>17.8090000152588</td><td>0.00698499986901879</td><td>17.7558994293213</td><td>0.00748099992051721</td><td>17.7511005401611</td><td>0.0174920000135899</td><td>--</td><td>--</td><td>--</td><td>--</td><td>--</td><td>--</td></tr>\n",
       "<tr><td>573934869154213632</td><td>11.639762625418992</td><td>85.16800977224642</td><td>-7.6985324404469235</td><td>5.71910670045043</td><td>--</td><td>14.984311</td><td>4269.0513</td><td>15.390951</td><td>496.50836</td><td>14.414208</td><td>880.42206</td><td>1.213878109383751</td><td>5434.396</td><td>0.9895143</td><td>1</td><td>0</td><td>15.4687004089355</td><td>0.00112499995157123</td><td>14.9682998657227</td><td>0.00314299995079637</td><td>14.7840995788574</td><td>0.00250299996696413</td><td>14.7157001495361</td><td>0.00332199991680682</td><td>14.671799659729</td><td>0.00449299998581409</td><td>13.719</td><td>0.029</td><td>13.291</td><td>0.041</td><td>13.193</td><td>0.035</td></tr>\n",
       "<tr><td>573935075312637696</td><td>11.355546052130615</td><td>85.17723972322962</td><td>-2.6004675196061586</td><td>-1.1891485524897507</td><td>-44.54503</td><td>14.686383</td><td>4884.2104</td><td>15.204281</td><td>434.0891</td><td>14.019403</td><td>970.70026</td><td>0.5466069585562476</td><td>4851.3867</td><td>1.2164924</td><td>1</td><td>0</td><td>15.3346996307373</td><td>0.00267400010488927</td><td>14.6496000289917</td><td>0.00205900007858872</td><td>14.394100189209</td><td>0.00320699997246265</td><td>14.2806997299194</td><td>0.00449799979105592</td><td>14.2093000411987</td><td>0.00164200004655868</td><td>13.136</td><td>0.027</td><td>12.64</td><td>0.033</td><td>12.589</td><td>0.021</td></tr>\n",
       "<tr><td>573935139736156672</td><td>11.2434370903608</td><td>85.1908007614722</td><td>-1.8581652559334978</td><td>-1.0205556961383249</td><td>--</td><td>18.432598</td><td>421.48285</td><td>19.411655</td><td>20.332754</td><td>17.456215</td><td>64.8789</td><td>0.37432672304363956</td><td>3557.0269</td><td>1.1885147</td><td>1</td><td>0</td><td>19.7171001434326</td><td>0.0161230005323887</td><td>18.5272998809814</td><td>0.00867899972945452</td><td>17.8351001739502</td><td>0.00642400002107024</td><td>17.514799118042</td><td>0.00486199976876378</td><td>17.3356990814209</td><td>0.0120430001989007</td><td>16.17</td><td>0.124</td><td>15.238</td><td>0.128</td><td>15.481</td><td>0.191</td></tr>\n",
       "<tr><td>573935139736258688</td><td>11.240557005443423</td><td>85.18937540637748</td><td>2.4095500535073637</td><td>-1.4376224911404196</td><td>--</td><td>20.17443</td><td>173.2524</td><td>20.727804</td><td>4.578481</td><td>19.06158</td><td>19.733812</td><td>-0.3708416335886471</td><td>--</td><td>1.1598091</td><td>1</td><td>0</td><td>--</td><td>--</td><td>20.7141990661621</td><td>0.0608359985053539</td><td>19.5118999481201</td><td>0.0204499997198582</td><td>18.9164009094238</td><td>0.0174870006740093</td><td>18.6567993164063</td><td>0.0208229999989271</td><td>--</td><td>--</td><td>--</td><td>--</td><td>--</td><td>--</td></tr>\n",
       "<tr><td>573935144030534400</td><td>11.19059753870281</td><td>85.19348421614625</td><td>2.8989958087405774</td><td>1.3319666778362032</td><td>--</td><td>19.946768</td><td>210.63202</td><td>19.751171</td><td>5.5944934</td><td>19.377947</td><td>8.450742</td><td>-0.03629074734460319</td><td>--</td><td>0.92809325</td><td>--</td><td>--</td><td>--</td><td>--</td><td>--</td><td>--</td><td>--</td><td>--</td><td>--</td><td>--</td><td>--</td><td>--</td><td>--</td><td>--</td><td>--</td><td>--</td><td>--</td><td>--</td></tr>\n",
       "<tr><td>573935144032103936</td><td>11.179759791770167</td><td>85.1936668356247</td><td>-2.25749592966012</td><td>-1.021630468067295</td><td>--</td><td>15.15463</td><td>3634.3066</td><td>15.5058565</td><td>522.0692</td><td>14.637541</td><td>713.848</td><td>0.5169725547905046</td><td>--</td><td>0.96404964</td><td>1</td><td>0</td><td>15.5595998764038</td><td>0.0031910000834614</td><td>15.1409997940063</td><td>0.00141000002622604</td><td>14.9990997314453</td><td>0.00144400005228817</td><td>14.9561996459961</td><td>0.00309600005857646</td><td>14.9366998672485</td><td>0.00459200004115701</td><td>14.016</td><td>0.033</td><td>13.776</td><td>0.044</td><td>13.646</td><td>0.039</td></tr>\n",
       "<tr><td>573935895650403968</td><td>11.134702616371175</td><td>85.19895709931505</td><td>2.256113638916761</td><td>-2.5067939899805323</td><td>--</td><td>18.7692</td><td>561.0836</td><td>19.658707</td><td>21.357428</td><td>17.951357</td><td>43.63899</td><td>0.5490026792372398</td><td>3896.121</td><td>1.0618763</td><td>1</td><td>0</td><td>19.8999004364014</td><td>0.0304249990731478</td><td>18.8089008331299</td><td>0.0164459999650717</td><td>18.2807998657227</td><td>0.00919899996370077</td><td>18.0373992919922</td><td>0.0109240002930164</td><td>17.9044990539551</td><td>0.0138980001211166</td><td>--</td><td>--</td><td>--</td><td>--</td><td>--</td><td>--</td></tr>\n",
       "<tr><td>...</td><td>...</td><td>...</td><td>...</td><td>...</td><td>...</td><td>...</td><td>...</td><td>...</td><td>...</td><td>...</td><td>...</td><td>...</td><td>...</td><td>...</td><td>...</td><td>...</td><td>...</td><td>...</td><td>...</td><td>...</td><td>...</td><td>...</td><td>...</td><td>...</td><td>...</td><td>...</td><td>...</td><td>...</td><td>...</td><td>...</td><td>...</td><td>...</td></tr>\n",
       "<tr><td>573964109291478016</td><td>12.374834054742001</td><td>85.34203487193001</td><td>-2.54335856208078</td><td>-0.9867665688096097</td><td>--</td><td>18.325222</td><td>729.142</td><td>18.967241</td><td>33.919415</td><td>17.528255</td><td>52.65277</td><td>0.5973819836397753</td><td>4133.3486</td><td>0.990413</td><td>1</td><td>0</td><td>19.324800491333</td><td>0.0171850007027388</td><td>18.2987995147705</td><td>0.00835699960589409</td><td>17.9011993408203</td><td>0.00601400015875697</td><td>17.7148990631104</td><td>0.0062830001115799</td><td>17.6012992858887</td><td>0.0153019996359944</td><td>16.791</td><td>0.146</td><td>15.76</td><td>0.16</td><td>15.442</td><td>0.187</td></tr>\n",
       "<tr><td>573964109291478400</td><td>12.445065380680639</td><td>85.34210504534708</td><td>-2.429558451122531</td><td>-1.1117685668143298</td><td>-34.826317</td><td>14.644935</td><td>4219.7007</td><td>14.989622</td><td>898.52136</td><td>14.134399</td><td>1326.9949</td><td>0.5192200548695725</td><td>5845.0566</td><td>0.9886034</td><td>1</td><td>0</td><td>15.0444002151489</td><td>0.0056980000808835</td><td>14.6286001205444</td><td>0.00245300005190074</td><td>14.5008001327515</td><td>0.00588299985975027</td><td>14.4573001861572</td><td>0.00337700010277331</td><td>14.4293003082275</td><td>0.00456399982795119</td><td>13.605</td><td>0.029</td><td>13.252</td><td>0.034</td><td>13.171</td><td>0.03</td></tr>\n",
       "<tr><td>573964143650332800</td><td>12.53498820060832</td><td>85.3424830319769</td><td>3.784057868774912</td><td>-1.3018916840564863</td><td>--</td><td>20.866776</td><td>97.34896</td><td>21.379236</td><td>3.523573</td><td>19.804476</td><td>9.375154</td><td>1.7293123869994682</td><td>--</td><td>1.0434511</td><td>1</td><td>0</td><td>--</td><td>--</td><td>21.0170993804932</td><td>0.115810997784138</td><td>20.2003002166748</td><td>0.0450050011277199</td><td>19.6424007415771</td><td>0.0283439997583628</td><td>19.2849006652832</td><td>0.0296599995344877</td><td>--</td><td>--</td><td>--</td><td>--</td><td>--</td><td>--</td></tr>\n",
       "<tr><td>573964143651214720</td><td>12.486592819446592</td><td>85.3474644122923</td><td>-2.288230895203508</td><td>-0.8296056183109306</td><td>--</td><td>15.620518</td><td>3342.2927</td><td>16.016098</td><td>367.6441</td><td>15.053102</td><td>450.54843</td><td>0.5519408943356717</td><td>5680.81</td><td>0.9489438</td><td>1</td><td>0</td><td>16.0869998931885</td><td>0.00499399984255433</td><td>15.5894002914429</td><td>0.00228599994443357</td><td>15.417799949646</td><td>0.00331799988634884</td><td>15.3600997924805</td><td>0.00325000006705523</td><td>15.3346004486084</td><td>0.00667400006204844</td><td>14.419</td><td>0.029</td><td>14.069</td><td>0.047</td><td>13.939</td><td>0.055</td></tr>\n",
       "<tr><td>573967059931861376</td><td>12.257608691816493</td><td>85.34818551724129</td><td>2.612251573429949</td><td>-2.073120525363648</td><td>--</td><td>17.894922</td><td>914.9719</td><td>18.336788</td><td>61.459766</td><td>17.294416</td><td>86.29372</td><td>0.256075935213573</td><td>4901.9746</td><td>1.0133133</td><td>1</td><td>0</td><td>18.4452991485596</td><td>0.00703600002452731</td><td>17.8696002960205</td><td>0.00439300015568733</td><td>17.6480007171631</td><td>0.00581899983808398</td><td>17.5421009063721</td><td>0.00580599997192621</td><td>17.5172004699707</td><td>0.0175540000200272</td><td>16.458</td><td>0.145</td><td>15.882</td><td>--</td><td>15.576</td><td>--</td></tr>\n",
       "<tr><td>573967059931864448</td><td>12.188083575590575</td><td>85.35231643043448</td><td>-2.3452001710953656</td><td>-0.8965035939663158</td><td>--</td><td>17.907213</td><td>894.88153</td><td>18.562744</td><td>56.760456</td><td>17.150267</td><td>107.17232</td><td>0.5182119567754263</td><td>4434.568</td><td>0.9926704</td><td>1</td><td>0</td><td>18.7801990509033</td><td>0.0108129996806383</td><td>17.8675994873047</td><td>0.00592599995434284</td><td>17.5133991241455</td><td>0.00331700011156499</td><td>17.3519992828369</td><td>0.00562500022351742</td><td>17.2488994598389</td><td>0.00877000018954277</td><td>16.272</td><td>0.1</td><td>15.496</td><td>0.125</td><td>15.082</td><td>--</td></tr>\n",
       "<tr><td>573967064227913984</td><td>12.238747615982144</td><td>85.3477883138826</td><td>-1.4799080756064797</td><td>-0.7969576835632572</td><td>--</td><td>20.625742</td><td>146.49707</td><td>21.132563</td><td>5.9266396</td><td>19.515333</td><td>18.10767</td><td>0.42355076650259077</td><td>--</td><td>1.0572463</td><td>1</td><td>0</td><td>--</td><td>--</td><td>20.8829002380371</td><td>0.0536389984190464</td><td>19.9342002868652</td><td>0.0164010003209114</td><td>19.4221000671387</td><td>0.0368029996752739</td><td>19.0970993041992</td><td>0.0784709975123405</td><td>--</td><td>--</td><td>--</td><td>--</td><td>--</td><td>--</td></tr>\n",
       "<tr><td>573967064228974208</td><td>12.312969432247053</td><td>85.34782917916243</td><td>-2.212832108953313</td><td>-0.9245322377583538</td><td>--</td><td>16.370054</td><td>2224.3093</td><td>16.77843</td><td>210.76007</td><td>15.804517</td><td>420.20398</td><td>0.5126491158895481</td><td>5270.8096</td><td>0.99562705</td><td>1</td><td>0</td><td>16.8379001617432</td><td>0.00684399995952845</td><td>16.342399597168</td><td>0.00600000005215406</td><td>16.1657009124756</td><td>0.00722499983385205</td><td>16.1023998260498</td><td>0.00345900002866983</td><td>16.0674991607666</td><td>0.00594600010663271</td><td>15.08</td><td>0.038</td><td>14.664</td><td>0.077</td><td>14.836</td><td>0.104</td></tr>\n",
       "<tr><td>573967064228977280</td><td>12.340719595044742</td><td>85.34266557510477</td><td>-2.3858720447209447</td><td>-0.8952831923100146</td><td>--</td><td>15.180419</td><td>3724.8108</td><td>15.528734</td><td>662.2006</td><td>14.666199</td><td>616.47534</td><td>0.47660186717205133</td><td>5641.7</td><td>1.048097</td><td>1</td><td>0</td><td>15.582200050354</td><td>0.00167599995620549</td><td>15.163200378418</td><td>0.00206100009381771</td><td>15.023099899292</td><td>0.00340500008314848</td><td>14.9883003234863</td><td>0.00327400001697242</td><td>14.9638996124268</td><td>0.00794299971312284</td><td>14.067</td><td>0.03</td><td>13.71</td><td>0.04</td><td>13.635</td><td>0.043</td></tr>\n",
       "<tr><td>573967128651342208</td><td>12.1181995017403</td><td>85.35423802018582</td><td>0.5008234597471343</td><td>2.1564673150016285</td><td>--</td><td>18.429712</td><td>686.9963</td><td>18.841682</td><td>81.21598</td><td>17.901337</td><td>60.774788</td><td>0.15259307986288975</td><td>5202.365</td><td>0.9368179</td><td>1</td><td>0</td><td>18.8987998962402</td><td>0.0058699999935925</td><td>18.3994007110596</td><td>0.0110090002417564</td><td>18.2250003814697</td><td>0.0074669998139143</td><td>18.1525001525879</td><td>0.00693400017917156</td><td>18.117000579834</td><td>0.0187870003283024</td><td>--</td><td>--</td><td>--</td><td>--</td><td>--</td><td>--</td></tr>\n",
       "</table></div>"
      ],
      "text/plain": [
       "<Table length=873>\n",
       "    source_id              ra                dec        ...   ks_m  ks_msigcom\n",
       "                          deg                deg        ...   mag      mag    \n",
       "      int64             float64            float64      ... float32  float32  \n",
       "------------------ ------------------ ----------------- ... ------- ----------\n",
       "573934800434741760 11.800092936880631 85.16020643413596 ...  15.815         --\n",
       "573934864858240768 11.609202804602221 85.16416856123969 ...      --         --\n",
       "573934869154213632 11.639762625418992 85.16800977224642 ...  13.193      0.035\n",
       "573935075312637696 11.355546052130615 85.17723972322962 ...  12.589      0.021\n",
       "573935139736156672   11.2434370903608  85.1908007614722 ...  15.481      0.191\n",
       "573935139736258688 11.240557005443423 85.18937540637748 ...      --         --\n",
       "573935144030534400  11.19059753870281 85.19348421614625 ...      --         --\n",
       "573935144032103936 11.179759791770167  85.1936668356247 ...  13.646      0.039\n",
       "573935895650403968 11.134702616371175 85.19895709931505 ...      --         --\n",
       "               ...                ...               ... ...     ...        ...\n",
       "573964109291478016 12.374834054742001 85.34203487193001 ...  15.442      0.187\n",
       "573964109291478400 12.445065380680639 85.34210504534708 ...  13.171       0.03\n",
       "573964143650332800  12.53498820060832  85.3424830319769 ...      --         --\n",
       "573964143651214720 12.486592819446592  85.3474644122923 ...  13.939      0.055\n",
       "573967059931861376 12.257608691816493 85.34818551724129 ...  15.576         --\n",
       "573967059931864448 12.188083575590575 85.35231643043448 ...  15.082         --\n",
       "573967064227913984 12.238747615982144  85.3477883138826 ...      --         --\n",
       "573967064228974208 12.312969432247053 85.34782917916243 ...  14.836      0.104\n",
       "573967064228977280 12.340719595044742 85.34266557510477 ...  13.635      0.043\n",
       "573967128651342208   12.1181995017403 85.35423802018582 ...      --         --"
      ]
     },
     "execution_count": 74,
     "metadata": {},
     "output_type": "execute_result"
    }
   ],
   "source": [
    "job.get_results()"
   ]
  },
  {
   "cell_type": "code",
   "execution_count": null,
   "id": "f08dcb43",
   "metadata": {},
   "outputs": [],
   "source": []
  }
 ],
 "metadata": {
  "kernelspec": {
   "display_name": "Python 3 (ipykernel)",
   "language": "python",
   "name": "python3"
  },
  "language_info": {
   "codemirror_mode": {
    "name": "ipython",
    "version": 3
   },
   "file_extension": ".py",
   "mimetype": "text/x-python",
   "name": "python",
   "nbconvert_exporter": "python",
   "pygments_lexer": "ipython3",
   "version": "3.10.4"
  }
 },
 "nbformat": 4,
 "nbformat_minor": 5
}
